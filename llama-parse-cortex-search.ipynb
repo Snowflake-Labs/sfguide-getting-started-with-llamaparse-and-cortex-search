{
 "cells": [
  {
   "cell_type": "markdown",
   "id": "06aaa5b3",
   "metadata": {},
   "source": [
    "# LlamaParse + Cortex Search\n",
    "\n",
    "This notebook walks through how to parse a complex report with LlamaParse, how to load it in Snowflake, and how to create a RAG via Cortex Search on top of the data loaded into Snowflake."
   ]
  },
  {
   "cell_type": "markdown",
   "id": "615b5c6f",
   "metadata": {},
   "source": [
    "## Set key and import libraries\n",
    "For this example, you will need a LlamaCloud API key and a Snowflake account. Get LlamaCloud API key following these [instructions](https://docs.cloud.llamaindex.ai/api_key), and signup for Snowflake [here](https://signup.snowflake.com/).\n",
    "\n",
    "To create a new database and warehouse for storing Snowflake tables, you can run the following SQL statements in a Snowflake worksheet.\n",
    "\n",
    "```sql\n",
    "CREATE DATABASE IF NOT EXISTS SEC_10KS;\n",
    "\n",
    "CREATE OR REPLACE WAREHOUSE llamaparse_cortex_search_wh WITH\n",
    "     WAREHOUSE_SIZE='X-SMALL'\n",
    "     AUTO_SUSPEND = 120\n",
    "     AUTO_RESUME = TRUE\n",
    "     INITIALLY_SUSPENDED=TRUE;\n",
    "```"
   ]
  },
  {
   "cell_type": "code",
   "execution_count": 32,
   "id": "735c4a7d",
   "metadata": {},
   "outputs": [],
   "source": [
    "import os\n",
    "import nest_asyncio\n",
    "nest_asyncio.apply()\n",
    "\n",
    "# llama-cloud\n",
    "os.environ[\"LLAMA_CLOUD_API_KEY\"] = \"...\"\n",
    "\n",
    "# snowflake\n",
    "os.environ[\"SNOWFLAKE_ACCOUNT\"] = \"...\" # note: \"_\" can cause problems with the connection, use \"-\" instead\n",
    "os.environ[\"SNOWFLAKE_USER\"] = \"...\"\n",
    "os.environ[\"SNOWFLAKE_PASSWORD\"] = \"...\"\n",
    "os.environ[\"SNOWFLAKE_ROLE\"] = \"...\"\n",
    "os.environ[\"SNOWFLAKE_WAREHOUSE\"] = \"...\"\n",
    "os.environ[\"SNOWFLAKE_DATABASE\"] = \"SEC_10KS\" # note: make sure to use a database that already exists\n",
    "os.environ[\"SNOWFLAKE_SCHEMA\"] = \"PUBLIC\""
   ]
  },
  {
   "cell_type": "markdown",
   "id": "0b7b6027",
   "metadata": {},
   "source": [
    "## Load Data\n",
    "\n",
    "Use Snowflake's latest 10K or your favorite PDF.\n",
    "\n",
    "To use Snowflake's latest 10K, download it from [here](https://d18rn0p25nwr6d.cloudfront.net/CIK-0001640147/663fb935-b123-4bbb-8827-905bcbb8953c.pdf) and rename it as `snowflake_2025_10k.pdf`."
   ]
  },
  {
   "cell_type": "markdown",
   "id": "68534acd",
   "metadata": {},
   "source": [
    "## Parse PDF"
   ]
  },
  {
   "cell_type": "code",
   "execution_count": 2,
   "id": "5195f837",
   "metadata": {},
   "outputs": [
    {
     "name": "stdout",
     "output_type": "stream",
     "text": [
      "Started parsing the file under job_id fba19fc4-9e65-4f30-b98e-d6c0c4979b2e\n"
     ]
    }
   ],
   "source": [
    "from llama_cloud_services import LlamaParse\n",
    "\n",
    "parser = LlamaParse(\n",
    "    num_workers=4,       # if multiple files passed, split in `num_workers` API calls\n",
    "    verbose=True,\n",
    "    language=\"en\",       # optionally define a language, default=en\n",
    ")\n",
    "\n",
    "# sync\n",
    "result = parser.parse(\"./snowflake_2025_10k.pdf\")"
   ]
  },
  {
   "cell_type": "code",
   "execution_count": 3,
   "id": "1cbea1d8",
   "metadata": {},
   "outputs": [],
   "source": [
    "# get the llama-index markdown documents\n",
    "markdown_documents = result.get_markdown_documents(split_by_page=False)"
   ]
  },
  {
   "cell_type": "markdown",
   "id": "4c284a17",
   "metadata": {},
   "source": [
    "## Convert LlamaIndex Documents to Dataframe"
   ]
  },
  {
   "cell_type": "code",
   "execution_count": null,
   "id": "c9bf3249",
   "metadata": {},
   "outputs": [],
   "source": [
    "import pandas as pd\n",
    "\n",
    "# fields that matter only to vector/RAG helpers – we don’t need them here\n",
    "_INTERNAL_KEYS_TO_SKIP = {\n",
    "    \"excluded_embed_metadata_keys\",\n",
    "    \"excluded_llm_metadata_keys\",\n",
    "    \"relationships\",\n",
    "    \"metadata_template\",\n",
    "    \"metadata_separator\",\n",
    "    \"text_template\",\n",
    "    \"class_name\",\n",
    "}\n",
    "\n",
    "def documents_to_dataframe(documents):\n",
    "    \"\"\"Convert a list of LlamaIndex documents to a tidy pandas DataFrame,\n",
    "    omitting vector-store helper fields that aren’t needed for analytics/LLM-matching.\n",
    "    \"\"\"\n",
    "    rows = []\n",
    "\n",
    "    for doc in documents:\n",
    "        d = doc.model_dump(exclude_none=True)\n",
    "\n",
    "        for k in _INTERNAL_KEYS_TO_SKIP:\n",
    "            d.pop(k, None)\n",
    "\n",
    "        # Pull out & flatten metadata\n",
    "        meta = d.pop(\"metadata\", {})\n",
    "        d.update(meta)\n",
    "\n",
    "        # Extract raw text\n",
    "        t_res = d.pop(\"text_resource\", None)\n",
    "        if t_res is not None:\n",
    "            d[\"text\"] = t_res.get(\"text\") if isinstance(t_res, dict) else getattr(t_res, \"text\", None)\n",
    "\n",
    "        rows.append(d)\n",
    "\n",
    "    return pd.DataFrame(rows)"
   ]
  },
  {
   "cell_type": "code",
   "execution_count": 5,
   "id": "30567c13",
   "metadata": {},
   "outputs": [],
   "source": [
    "documents_df = documents_to_dataframe(markdown_documents)"
   ]
  },
  {
   "cell_type": "markdown",
   "id": "48e6742d",
   "metadata": {},
   "source": [
    "## Write DataFrame to Snowflake table"
   ]
  },
  {
   "cell_type": "code",
   "execution_count": 8,
   "id": "8498ad32",
   "metadata": {},
   "outputs": [],
   "source": [
    "from snowflake.snowpark import Session\n",
    "\n",
    "# Create Snowpark session\n",
    "connection_parameters = {\n",
    "    \"account\": os.getenv(\"SNOWFLAKE_ACCOUNT\"),\n",
    "    \"user\": os.getenv(\"SNOWFLAKE_USER\"),\n",
    "    \"password\": os.getenv(\"SNOWFLAKE_PASSWORD\"),            \n",
    "    \"role\": os.getenv(\"SNOWFLAKE_ROLE\"),\n",
    "    \"warehouse\": os.getenv(\"SNOWFLAKE_WARHEOUSE\"),\n",
    "    \"database\": os.getenv(\"SNOWFLAKE_DATABASE\"),\n",
    "    \"schema\": os.getenv(\"SNOWFLAKE_SCHEMA\"),\n",
    "}\n",
    "\n",
    "session = Session.builder.configs(connection_parameters).create()"
   ]
  },
  {
   "cell_type": "code",
   "execution_count": 9,
   "id": "f91be45a",
   "metadata": {},
   "outputs": [],
   "source": [
    "# convert to Snowpark DataFrame\n",
    "snowpark_df = session.create_dataframe(documents_df)"
   ]
  },
  {
   "cell_type": "code",
   "execution_count": null,
   "id": "6c148161",
   "metadata": {},
   "outputs": [],
   "source": [
    "# Write Snowpark DataFrame to a Snowflake table\n",
    "# Use 'overwrite' to replace table or 'append' to add to existing table\n",
    "snowpark_df.write.mode(\"overwrite\").save_as_table(\"snowflake_10k\")"
   ]
  },
  {
   "cell_type": "markdown",
   "id": "9aa07d6e",
   "metadata": {},
   "source": [
    "## Split the text"
   ]
  },
  {
   "cell_type": "code",
   "execution_count": null,
   "id": "32506baf",
   "metadata": {},
   "outputs": [
    {
     "data": {
      "text/plain": [
       "[Row(status='Table SNOWFLAKE_10K_MARKDOWN_CHUNKS successfully created.')]"
      ]
     },
     "execution_count": 28,
     "metadata": {},
     "output_type": "execute_result"
    }
   ],
   "source": [
    "split_text_sql = \"\"\"\n",
    "CREATE OR REPLACE TABLE SNOWFLAKE_10K_MARKDOWN_CHUNKS AS\n",
    "SELECT\n",
    "    \"id_\" as ID,\n",
    "    \"file_name\" as FILE_NAME,\n",
    "    c.value::string as TEXT\n",
    "FROM\n",
    "    SNOWFLAKE_10K,\n",
    "    LATERAL FLATTEN(input => SNOWFLAKE.CORTEX.SPLIT_TEXT_RECURSIVE_CHARACTER(\n",
    "        \"text\",\n",
    "        'markdown',\n",
    "        512,\n",
    "        128\n",
    "    )) c;\n",
    "\"\"\"\n",
    "session.sql(split_text_sql).collect()"
   ]
  },
  {
   "cell_type": "code",
   "execution_count": 31,
   "id": "902104f8",
   "metadata": {},
   "outputs": [
    {
     "name": "stdout",
     "output_type": "stream",
     "text": [
      "------------------------------------------------------------------------------------------------------------------------\n",
      "|\"ID\"                                  |\"FILE_NAME\"               |\"TEXT\"                                              |\n",
      "------------------------------------------------------------------------------------------------------------------------\n",
      "|9ddd8c6c-f0eb-47c0-8f5d-506d418ae28a  |./snowflake_2025_10k.pdf  |# Table of Contents                                 |\n",
      "|                                      |                          |                                                    |\n",
      "|                                      |                          |# UNITED STATES                                     |\n",
      "|                                      |                          |                                                    |\n",
      "|                                      |                          |# SECURITIES AND EXCHANGE COMMISSION                |\n",
      "|                                      |                          |                                                    |\n",
      "|                                      |                          |# Washington, D.C. 20549                            |\n",
      "|                                      |                          |                                                    |\n",
      "|                                      |                          |# FORM 10-K                                         |\n",
      "|9ddd8c6c-f0eb-47c0-8f5d-506d418ae28a  |./snowflake_2025_10k.pdf  |# (Mark One)                                        |\n",
      "|9ddd8c6c-f0eb-47c0-8f5d-506d418ae28a  |./snowflake_2025_10k.pdf  || ☒  | ANNUAL REPORT PURSUANT TO SECTION 13 OR ...  |\n",
      "|                                      |                          || -- | ----------------------------------------...  |\n",
      "|                                      |                          ||    | For the fiscal year ended January 31, 20...  |\n",
      "|                                      |                          || OR | ☐ TRANSITION REPORT PURSUANT TO SECTION ...  |\n",
      "|                                      |                          ||    | For the transition period from to       ...  |\n",
      "------------------------------------------------------------------------------------------------------------------------\n",
      "\n"
     ]
    }
   ],
   "source": [
    "session.sql(\"SELECT * FROM SNOWFLAKE_10K_MARKDOWN_CHUNKS LIMIT 3\").show()"
   ]
  },
  {
   "cell_type": "markdown",
   "id": "b6811ab2",
   "metadata": {},
   "source": [
    "## Create Cortex Search Service"
   ]
  },
  {
   "cell_type": "code",
   "execution_count": 17,
   "id": "7e19ab4b",
   "metadata": {},
   "outputs": [
    {
     "data": {
      "text/plain": [
       "[Row(status='Cortex search service SNOWFLAKE_10K_SEARCH_SERVICE successfully created.')]"
      ]
     },
     "execution_count": 17,
     "metadata": {},
     "output_type": "execute_result"
    }
   ],
   "source": [
    "create_search_service_sql = \"\"\"\n",
    "CREATE OR REPLACE CORTEX SEARCH SERVICE SNOWFLAKE_10K_SEARCH_SERVICE\n",
    "  ON TEXT\n",
    "  ATTRIBUTES ID, FILE_NAME\n",
    "  WAREHOUSE = S\n",
    "  TARGET_LAG = '1 hour'\n",
    "AS (\n",
    "  SELECT\n",
    "    ID,\n",
    "    FILE_NAME,\n",
    "    TEXT\n",
    "  FROM SEC_10KS.PUBLIC.SNOWFLAKE_10K_MARKDOWN_CHUNKS\n",
    ");\n",
    "\"\"\"\n",
    "session.sql(create_search_service_sql).collect()"
   ]
  },
  {
   "cell_type": "code",
   "execution_count": 18,
   "id": "9562d37b",
   "metadata": {},
   "outputs": [],
   "source": [
    "from snowflake.core import Root\n",
    "from typing import List\n",
    "from snowflake.snowpark.session import Session\n",
    "\n",
    "class CortexSearchRetriever:\n",
    "\n",
    "    def __init__(self, snowpark_session: Session, limit_to_retrieve: int = 4):\n",
    "        self._snowpark_session = snowpark_session\n",
    "        self._limit_to_retrieve = limit_to_retrieve\n",
    "\n",
    "    def retrieve(self, query: str) -> List[str]:\n",
    "        root = Root(session)\n",
    "\n",
    "        search_service = (root\n",
    "          .databases[\"SEC_10KS\"]\n",
    "          .schemas[\"PUBLIC\"]\n",
    "          .cortex_search_services[\"SNOWFLAKE_10K_SEARCH_SERVICE\"]\n",
    "        )\n",
    "        resp = search_service.search(\n",
    "          query=query,\n",
    "          columns=[\"text\"],\n",
    "          limit=self._limit_to_retrieve\n",
    "        )\n",
    "\n",
    "        if resp.results:\n",
    "            return [curr[\"text\"] for curr in resp.results]\n",
    "        else:\n",
    "            return []\n",
    "        \n",
    "retriever = CortexSearchRetriever(snowpark_session=session, limit_to_retrieve=5)"
   ]
  },
  {
   "cell_type": "code",
   "execution_count": 19,
   "id": "ca74bda0",
   "metadata": {},
   "outputs": [
    {
     "data": {
      "text/plain": [
       "['________________\\n\\n(1) For the fiscal years ended January 31, 2025, 2024, and 2023, respectively, approximately 65%, 67%, and 71% of cost of product revenue represented third-party cloud infrastructure expenses incurred in connection with the customers’ use of the Snowflake platform and the deployment and maintenance of the platform on public clouds, including different regional deployments.',\n",
       " 'Our revenue was $3.6 billion, $2.8 billion, and $2.1 billion for the fiscal years ended January 31, 2025, 2024, and 2023, respectively. As a result of our historical rapid growth, limited operating history, large number of new product features, including those incorporating artificial intelligence and machine learning technology (AI Technology), and unstable macroeconomic conditions, our ability to accurately forecast our future results of operations, including revenue, gross margin, remaining performance',\n",
       " 'reflecting these adjustments. Our platform has been adopted by many of the world’s largest organizations that view Snowflake as a key strategic partner in their cloud and data transformation initiatives. As of January 31, 2025, our customers included 745 of the Forbes Global 2000, based on the 2024 Forbes Global 2000 list, and those customers contributed approximately 42% of our revenue for the fiscal year ended January 31, 2025. Our Forbes Global 2000 customer count is subject to adjustments for annual',\n",
       " 'For the fiscal years ended January 31, 2025, 2024, and 2023, our revenue was $3.6 billion, $2.8 billion, and $2.1 billion, respectively, representing year-over-year growth of 29% and 36%, respectively. Our net loss was $1.3 billion, $838.0 million, and $797.5 million for the fiscal years ended January 31, 2025, 2024, and 2023, respectively.',\n",
       " '# Percentage of revenue:\\n\\n| Product                         | 95%  | 95%  |\\n| ------------------------------- | ---- | ---- |\\n| Professional services and other | 5%   | 5%   |\\n| Total                           | 100% | 100% |\\n\\nProduct revenue increased $795.6 million for the fiscal year ended January 31, 2025, compared to the prior fiscal year, primarily due to increased consumption of our platform by existing customers, as evidenced by our net revenue retention rate of 126% as of January 31, 2025.']"
      ]
     },
     "execution_count": 19,
     "metadata": {},
     "output_type": "execute_result"
    }
   ],
   "source": [
    "retrieved_context = retriever.retrieve(\"What was the total revenue (in billions) for Snowflake in FY 2024? How much of that was product revenue?\")\n",
    "\n",
    "retrieved_context"
   ]
  },
  {
   "cell_type": "markdown",
   "id": "a65ee85b",
   "metadata": {},
   "source": [
    "## Create a RAG"
   ]
  },
  {
   "cell_type": "code",
   "execution_count": 20,
   "id": "c7e94fb3",
   "metadata": {},
   "outputs": [],
   "source": [
    "from snowflake.cortex import complete\n",
    "\n",
    "class RAG:\n",
    "\n",
    "    def __init__(self, session):\n",
    "        self.session = session\n",
    "        self.retriever = CortexSearchRetriever(snowpark_session=self.session, limit_to_retrieve=10)\n",
    "\n",
    "    def retrieve_context(self, query: str) -> list:\n",
    "        \"\"\"\n",
    "        Retrieve relevant text from vector store.\n",
    "        \"\"\"\n",
    "        return self.retriever.retrieve(query)\n",
    "\n",
    "    def generate_completion(self, query: str, context_str: list) -> str:\n",
    "        \"\"\"\n",
    "        Generate answer from context.\n",
    "        \"\"\"\n",
    "        prompt = f\"\"\"\n",
    "          You are an expert assistant extracting information from context provided.\n",
    "          Answer the question in concisely, yet completely. Only use the information provided.\n",
    "          Context: {context_str}\n",
    "          Question:\n",
    "          {query}\n",
    "          Answer:\n",
    "        \"\"\"\n",
    "        response = \"\"\n",
    "        response = complete(\"claude-4-sonnet\", prompt, session = session)\n",
    "        return response\n",
    "\n",
    "    def query(self, query: str) -> str:\n",
    "        context_str = self.retrieve_context(query)\n",
    "        return self.generate_completion(query, context_str)\n",
    "\n",
    "\n",
    "rag = RAG(session)"
   ]
  },
  {
   "cell_type": "code",
   "execution_count": 21,
   "id": "02ffbb46",
   "metadata": {},
   "outputs": [],
   "source": [
    "response = rag.query(\"What was the total revenue (in billions) for Snowflake in FY 2024? How much of that was product revenue?\")"
   ]
  },
  {
   "cell_type": "code",
   "execution_count": 22,
   "id": "a19897a2",
   "metadata": {},
   "outputs": [
    {
     "data": {
      "text/markdown": [
       "Based on the provided context, for fiscal year 2024 (ended January 31, 2024):\n",
       "\n",
       "**Total Revenue:** $2.8 billion\n",
       "\n",
       "**Product Revenue:** $2,666,849 thousand, which equals approximately $2.67 billion\n",
       "\n",
       "Product revenue represented 95% of total revenue, while professional services and other revenue made up the remaining 5% ($139,640 thousand or approximately $0.14 billion)."
      ],
      "text/plain": [
       "<IPython.core.display.Markdown object>"
      ]
     },
     "metadata": {},
     "output_type": "display_data"
    }
   ],
   "source": [
    "from IPython.display import Markdown\n",
    "\n",
    "display(Markdown(response))"
   ]
  }
 ],
 "metadata": {
  "kernelspec": {
   "display_name": "oss_rag_stack",
   "language": "python",
   "name": "python3"
  },
  "language_info": {
   "codemirror_mode": {
    "name": "ipython",
    "version": 3
   },
   "file_extension": ".py",
   "mimetype": "text/x-python",
   "name": "python",
   "nbconvert_exporter": "python",
   "pygments_lexer": "ipython3",
   "version": "3.11.11"
  }
 },
 "nbformat": 4,
 "nbformat_minor": 5
}
